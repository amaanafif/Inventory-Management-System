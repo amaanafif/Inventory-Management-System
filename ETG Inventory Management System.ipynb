{
 "cells": [
  {
   "cell_type": "code",
   "execution_count": 1,
   "id": "8c93419d",
   "metadata": {},
   "outputs": [],
   "source": [
    "inventory = {\"1111\":{\"Name\":\"Coke\",\"Exp. Date\":\"1/7/22\",\"Type\":\"Drink\",\"Quantity\":\"100\",\"Price\":\"30\"},\n",
    "             \"1112\":{\"Name\":\"Sprite\",\"Exp. Date\":\"1/7/22\",\"Type\":\"Drink\",\"Quantity\":\"100\",\"Price\":\"30\"},\n",
    "             \"1113\":{\"Name\":\"Fanta\",\"Exp. Date\":\"1/7/22\",\"Type\":\"Drink\",\"Quantity\":\"100\",\"Price\":\"30\"},\n",
    "             \"1114\":{\"Name\":\"Thumps Up\",\"Exp. Date\":\"1/7/22\",\"Type\":\"Drink\",\"Quantity\":\"100\",\"Price\":\"30\"},\n",
    "             \"1115\":{\"Name\":\"Limca\",\"Exp. Date\":\"1/7/22\",\"Type\":\"Drink\",\"Quantity\":\"100\",\"Price\":\"30\"},\n",
    "             \"1116\":{\"Name\":\"Pepsi\",\"Exp. Date\":\"1/7/22\",\"Type\":\"Drink\",\"Quantity\":\"100\",\"Price\":\"30\"},\n",
    "             \"1117\":{\"Name\":\"Mirinda\",\"Exp. Date\":\"1/7/22\",\"Type\":\"Drink\",\"Quantity\":\"100\",\"Price\":\"30\"},\n",
    "             \"1118\":{\"Name\":\"7 Up\",\"Exp. Date\":\"1/7/22\",\"Type\":\"Drink\",\"Quantity\":\"100\",\"Price\":\"30\"},\n",
    "             \"1119\":{\"Name\":\"Mountain Dew\",\"Exp. Date\":\"1/7/22\",\"Type\":\"Drink\",\"Quantity\":\"100\",\"Price\":\"30\"},\n",
    "             \"1120\":{\"Name\":\"Maaza\",\"Exp. Date\":\"1/7/22\",\"Type\":\"Drink\",\"Quantity\":\"100\",\"Price\":\"30\"},\n",
    "             \"1121\":{\"Name\":\"Frooti\",\"Exp. Date\":\"1/7/22\",\"Type\":\"Drink\",\"Quantity\":\"100\",\"Price\":\"30\"},\n",
    "             \"1122\":{\"Name\":\"Slice\",\"Exp. Date\":\"1/7/22\",\"Type\":\"Drink\",\"Quantity\":\"100\",\"Price\":\"30\"},\n",
    "             \"2111\":{\"Name\":\"Lays\",\"Exp. Date\":\"1/2/22\",\"Type\":\"Snacks\",\"Quantity\":\"80\",\"Price\":\"10\"},\n",
    "             \"2112\":{\"Name\":\"Bingo\",\"Exp. Date\":\"1/2/22\",\"Type\":\"Snacks\",\"Quantity\":\"80\",\"Price\":\"10\"},\n",
    "             \"2113\":{\"Name\":\"Kurkure\",\"Exp. Date\":\"1/2/22\",\"Type\":\"Snacks\",\"Quantity\":\"80\",\"Price\":\"10\"},\n",
    "             \"2114\":{\"Name\":\"Chips\",\"Exp. Date\":\"1/2/22\",\"Type\":\"Snacks\",\"Quantity\":\"80\",\"Price\":\"10\"},\n",
    "             \"2115\":{\"Name\":\"Cheetos\",\"Exp. Date\":\"1/2/22\",\"Type\":\"Snacks\",\"Quantity\":\"80\",\"Price\":\"10\"},\n",
    "             \"3111\":{\"Name\":\"Dairy Milk\",\"Exp. Date\":\"1/4/22\",\"Type\":\"Chocolate\",\"Quantity\":\"50\",\"Price\":\"20\"},\n",
    "             \"3112\":{\"Name\":\"Perk\",\"Exp. Date\":\"1/4/22\",\"Type\":\"Chocolate\",\"Quantity\":\"50\",\"Price\":\"20\"},\n",
    "             \"3113\":{\"Name\":\"Fuse\",\"Exp. Date\":\"1/4/22\",\"Type\":\"Chocolate\",\"Quantity\":\"50\",\"Price\":\"20\"},\n",
    "             \"3114\":{\"Name\":\"5 Star\",\"Exp. Date\":\"1/4/22\",\"Type\":\"Chocolate\",\"Quantity\":\"50\",\"Price\":\"20\"},\n",
    "             \"3115\":{\"Name\":\"Bournville\",\"Exp. Date\":\"1/4/22\",\"Type\":\"Chocolate\",\"Quantity\":\"50\",\"Price\":\"20\"},\n",
    "             \"3116\":{\"Name\":\"MilkyBar\",\"Exp. Date\":\"1/4/22\",\"Type\":\"Chocolate\",\"Quantity\":\"50\",\"Price\":\"20\"},\n",
    "             \"3117\":{\"Name\":\"KitKat\",\"Exp. Date\":\"1/4/22\",\"Type\":\"Chocolate\",\"Quantity\":\"50\",\"Price\":\"20\"},\n",
    "             \"3118\":{\"Name\":\"Munch\",\"Exp. Date\":\"1/4/22\",\"Type\":\"Chocolate\",\"Quantity\":\"50\",\"Price\":\"20\"},\n",
    "             \"3119\":{\"Name\":\"Bar One\",\"Exp. Date\":\"1/4/22\",\"Type\":\"Chocolate\",\"Quantity\":\"50\",\"Price\":\"20\"},\n",
    "             \"3120\":{\"Name\":\"Chuckles\",\"Exp. Date\":\"1/4/22\",\"Type\":\"Chocolate\",\"Quantity\":\"50\",\"Price\":\"20\"},\n",
    "             \"3121\":{\"Name\":\"Snickers\",\"Exp. Date\":\"1/4/22\",\"Type\":\"Chocolate\",\"Quantity\":\"50\",\"Price\":\"20\"},\n",
    "             \"3122\":{\"Name\":\"Kinder Joy\",\"Exp. Date\":\"1/4/22\",\"Type\":\"Chocolate\",\"Quantity\":\"50\",\"Price\":\"20\"},\n",
    "             \"3123\":{\"Name\":\"Choco Pie\",\"Exp. Date\":\"1/4/22\",\"Type\":\"Chocolate\",\"Quantity\":\"50\",\"Price\":\"20\"}}\n",
    "             "
   ]
  },
  {
   "cell_type": "code",
   "execution_count": 2,
   "id": "86b5daca",
   "metadata": {},
   "outputs": [
    {
     "data": {
      "text/plain": [
       "{'1111': {'Name': 'Coke',\n",
       "  'Exp. Date': '1/7/22',\n",
       "  'Type': 'Drink',\n",
       "  'Quantity': '100',\n",
       "  'Price': '30'},\n",
       " '1112': {'Name': 'Sprite',\n",
       "  'Exp. Date': '1/7/22',\n",
       "  'Type': 'Drink',\n",
       "  'Quantity': '100',\n",
       "  'Price': '30'},\n",
       " '1113': {'Name': 'Fanta',\n",
       "  'Exp. Date': '1/7/22',\n",
       "  'Type': 'Drink',\n",
       "  'Quantity': '100',\n",
       "  'Price': '30'},\n",
       " '1114': {'Name': 'Thumps Up',\n",
       "  'Exp. Date': '1/7/22',\n",
       "  'Type': 'Drink',\n",
       "  'Quantity': '100',\n",
       "  'Price': '30'},\n",
       " '1115': {'Name': 'Limca',\n",
       "  'Exp. Date': '1/7/22',\n",
       "  'Type': 'Drink',\n",
       "  'Quantity': '100',\n",
       "  'Price': '30'},\n",
       " '1116': {'Name': 'Pepsi',\n",
       "  'Exp. Date': '1/7/22',\n",
       "  'Type': 'Drink',\n",
       "  'Quantity': '100',\n",
       "  'Price': '30'},\n",
       " '1117': {'Name': 'Mirinda',\n",
       "  'Exp. Date': '1/7/22',\n",
       "  'Type': 'Drink',\n",
       "  'Quantity': '100',\n",
       "  'Price': '30'},\n",
       " '1118': {'Name': '7 Up',\n",
       "  'Exp. Date': '1/7/22',\n",
       "  'Type': 'Drink',\n",
       "  'Quantity': '100',\n",
       "  'Price': '30'},\n",
       " '1119': {'Name': 'Mountain Dew',\n",
       "  'Exp. Date': '1/7/22',\n",
       "  'Type': 'Drink',\n",
       "  'Quantity': '100',\n",
       "  'Price': '30'},\n",
       " '1120': {'Name': 'Maaza',\n",
       "  'Exp. Date': '1/7/22',\n",
       "  'Type': 'Drink',\n",
       "  'Quantity': '100',\n",
       "  'Price': '30'},\n",
       " '1121': {'Name': 'Frooti',\n",
       "  'Exp. Date': '1/7/22',\n",
       "  'Type': 'Drink',\n",
       "  'Quantity': '100',\n",
       "  'Price': '30'},\n",
       " '1122': {'Name': 'Slice',\n",
       "  'Exp. Date': '1/7/22',\n",
       "  'Type': 'Drink',\n",
       "  'Quantity': '100',\n",
       "  'Price': '30'},\n",
       " '2111': {'Name': 'Lays',\n",
       "  'Exp. Date': '1/2/22',\n",
       "  'Type': 'Snacks',\n",
       "  'Quantity': '80',\n",
       "  'Price': '10'},\n",
       " '2112': {'Name': 'Bingo',\n",
       "  'Exp. Date': '1/2/22',\n",
       "  'Type': 'Snacks',\n",
       "  'Quantity': '80',\n",
       "  'Price': '10'},\n",
       " '2113': {'Name': 'Kurkure',\n",
       "  'Exp. Date': '1/2/22',\n",
       "  'Type': 'Snacks',\n",
       "  'Quantity': '80',\n",
       "  'Price': '10'},\n",
       " '2114': {'Name': 'Chips',\n",
       "  'Exp. Date': '1/2/22',\n",
       "  'Type': 'Snacks',\n",
       "  'Quantity': '80',\n",
       "  'Price': '10'},\n",
       " '2115': {'Name': 'Cheetos',\n",
       "  'Exp. Date': '1/2/22',\n",
       "  'Type': 'Snacks',\n",
       "  'Quantity': '80',\n",
       "  'Price': '10'},\n",
       " '3111': {'Name': 'Dairy Milk',\n",
       "  'Exp. Date': '1/4/22',\n",
       "  'Type': 'Chocolate',\n",
       "  'Quantity': '50',\n",
       "  'Price': '20'},\n",
       " '3112': {'Name': 'Perk',\n",
       "  'Exp. Date': '1/4/22',\n",
       "  'Type': 'Chocolate',\n",
       "  'Quantity': '50',\n",
       "  'Price': '20'},\n",
       " '3113': {'Name': 'Fuse',\n",
       "  'Exp. Date': '1/4/22',\n",
       "  'Type': 'Chocolate',\n",
       "  'Quantity': '50',\n",
       "  'Price': '20'},\n",
       " '3114': {'Name': '5 Star',\n",
       "  'Exp. Date': '1/4/22',\n",
       "  'Type': 'Chocolate',\n",
       "  'Quantity': '50',\n",
       "  'Price': '20'},\n",
       " '3115': {'Name': 'Bournville',\n",
       "  'Exp. Date': '1/4/22',\n",
       "  'Type': 'Chocolate',\n",
       "  'Quantity': '50',\n",
       "  'Price': '20'},\n",
       " '3116': {'Name': 'MilkyBar',\n",
       "  'Exp. Date': '1/4/22',\n",
       "  'Type': 'Chocolate',\n",
       "  'Quantity': '50',\n",
       "  'Price': '20'},\n",
       " '3117': {'Name': 'KitKat',\n",
       "  'Exp. Date': '1/4/22',\n",
       "  'Type': 'Chocolate',\n",
       "  'Quantity': '50',\n",
       "  'Price': '20'},\n",
       " '3118': {'Name': 'Munch',\n",
       "  'Exp. Date': '1/4/22',\n",
       "  'Type': 'Chocolate',\n",
       "  'Quantity': '50',\n",
       "  'Price': '20'},\n",
       " '3119': {'Name': 'Bar One',\n",
       "  'Exp. Date': '1/4/22',\n",
       "  'Type': 'Chocolate',\n",
       "  'Quantity': '50',\n",
       "  'Price': '20'},\n",
       " '3120': {'Name': 'Chuckles',\n",
       "  'Exp. Date': '1/4/22',\n",
       "  'Type': 'Chocolate',\n",
       "  'Quantity': '50',\n",
       "  'Price': '20'},\n",
       " '3121': {'Name': 'Snickers',\n",
       "  'Exp. Date': '1/4/22',\n",
       "  'Type': 'Chocolate',\n",
       "  'Quantity': '50',\n",
       "  'Price': '20'},\n",
       " '3122': {'Name': 'Kinder Joy',\n",
       "  'Exp. Date': '1/4/22',\n",
       "  'Type': 'Chocolate',\n",
       "  'Quantity': '50',\n",
       "  'Price': '20'},\n",
       " '3123': {'Name': 'Choco Pie',\n",
       "  'Exp. Date': '1/4/22',\n",
       "  'Type': 'Chocolate',\n",
       "  'Quantity': '50',\n",
       "  'Price': '20'}}"
      ]
     },
     "execution_count": 2,
     "metadata": {},
     "output_type": "execute_result"
    }
   ],
   "source": [
    "inventory"
   ]
  },
  {
   "cell_type": "code",
   "execution_count": 3,
   "id": "8fa7d2e4",
   "metadata": {},
   "outputs": [
    {
     "data": {
      "text/plain": [
       "{'Name': 'Coke',\n",
       " 'Exp. Date': '1/7/22',\n",
       " 'Type': 'Drink',\n",
       " 'Quantity': '100',\n",
       " 'Price': '30'}"
      ]
     },
     "execution_count": 3,
     "metadata": {},
     "output_type": "execute_result"
    }
   ],
   "source": [
    "inventory[\"1111\"]"
   ]
  },
  {
   "cell_type": "code",
   "execution_count": 4,
   "id": "f8664909",
   "metadata": {},
   "outputs": [
    {
     "data": {
      "text/plain": [
       "{'Name': 'Fuse',\n",
       " 'Exp. Date': '1/4/22',\n",
       " 'Type': 'Chocolate',\n",
       " 'Quantity': '50',\n",
       " 'Price': '20'}"
      ]
     },
     "execution_count": 4,
     "metadata": {},
     "output_type": "execute_result"
    }
   ],
   "source": [
    "inventory[\"3113\"]"
   ]
  },
  {
   "cell_type": "code",
   "execution_count": 5,
   "id": "3e510dbf",
   "metadata": {},
   "outputs": [
    {
     "data": {
      "text/plain": [
       "'{\"1111\": {\"Name\": \"Coke\", \"Exp. Date\": \"1/7/22\", \"Type\": \"Drink\", \"Quantity\": \"100\", \"Price\": \"30\"}, \"1112\": {\"Name\": \"Sprite\", \"Exp. Date\": \"1/7/22\", \"Type\": \"Drink\", \"Quantity\": \"100\", \"Price\": \"30\"}, \"1113\": {\"Name\": \"Fanta\", \"Exp. Date\": \"1/7/22\", \"Type\": \"Drink\", \"Quantity\": \"100\", \"Price\": \"30\"}, \"1114\": {\"Name\": \"Thumps Up\", \"Exp. Date\": \"1/7/22\", \"Type\": \"Drink\", \"Quantity\": \"100\", \"Price\": \"30\"}, \"1115\": {\"Name\": \"Limca\", \"Exp. Date\": \"1/7/22\", \"Type\": \"Drink\", \"Quantity\": \"100\", \"Price\": \"30\"}, \"1116\": {\"Name\": \"Pepsi\", \"Exp. Date\": \"1/7/22\", \"Type\": \"Drink\", \"Quantity\": \"100\", \"Price\": \"30\"}, \"1117\": {\"Name\": \"Mirinda\", \"Exp. Date\": \"1/7/22\", \"Type\": \"Drink\", \"Quantity\": \"100\", \"Price\": \"30\"}, \"1118\": {\"Name\": \"7 Up\", \"Exp. Date\": \"1/7/22\", \"Type\": \"Drink\", \"Quantity\": \"100\", \"Price\": \"30\"}, \"1119\": {\"Name\": \"Mountain Dew\", \"Exp. Date\": \"1/7/22\", \"Type\": \"Drink\", \"Quantity\": \"100\", \"Price\": \"30\"}, \"1120\": {\"Name\": \"Maaza\", \"Exp. Date\": \"1/7/22\", \"Type\": \"Drink\", \"Quantity\": \"100\", \"Price\": \"30\"}, \"1121\": {\"Name\": \"Frooti\", \"Exp. Date\": \"1/7/22\", \"Type\": \"Drink\", \"Quantity\": \"100\", \"Price\": \"30\"}, \"1122\": {\"Name\": \"Slice\", \"Exp. Date\": \"1/7/22\", \"Type\": \"Drink\", \"Quantity\": \"100\", \"Price\": \"30\"}, \"2111\": {\"Name\": \"Lays\", \"Exp. Date\": \"1/2/22\", \"Type\": \"Snacks\", \"Quantity\": \"80\", \"Price\": \"10\"}, \"2112\": {\"Name\": \"Bingo\", \"Exp. Date\": \"1/2/22\", \"Type\": \"Snacks\", \"Quantity\": \"80\", \"Price\": \"10\"}, \"2113\": {\"Name\": \"Kurkure\", \"Exp. Date\": \"1/2/22\", \"Type\": \"Snacks\", \"Quantity\": \"80\", \"Price\": \"10\"}, \"2114\": {\"Name\": \"Chips\", \"Exp. Date\": \"1/2/22\", \"Type\": \"Snacks\", \"Quantity\": \"80\", \"Price\": \"10\"}, \"2115\": {\"Name\": \"Cheetos\", \"Exp. Date\": \"1/2/22\", \"Type\": \"Snacks\", \"Quantity\": \"80\", \"Price\": \"10\"}, \"3111\": {\"Name\": \"Dairy Milk\", \"Exp. Date\": \"1/4/22\", \"Type\": \"Chocolate\", \"Quantity\": \"50\", \"Price\": \"20\"}, \"3112\": {\"Name\": \"Perk\", \"Exp. Date\": \"1/4/22\", \"Type\": \"Chocolate\", \"Quantity\": \"50\", \"Price\": \"20\"}, \"3113\": {\"Name\": \"Fuse\", \"Exp. Date\": \"1/4/22\", \"Type\": \"Chocolate\", \"Quantity\": \"50\", \"Price\": \"20\"}, \"3114\": {\"Name\": \"5 Star\", \"Exp. Date\": \"1/4/22\", \"Type\": \"Chocolate\", \"Quantity\": \"50\", \"Price\": \"20\"}, \"3115\": {\"Name\": \"Bournville\", \"Exp. Date\": \"1/4/22\", \"Type\": \"Chocolate\", \"Quantity\": \"50\", \"Price\": \"20\"}, \"3116\": {\"Name\": \"MilkyBar\", \"Exp. Date\": \"1/4/22\", \"Type\": \"Chocolate\", \"Quantity\": \"50\", \"Price\": \"20\"}, \"3117\": {\"Name\": \"KitKat\", \"Exp. Date\": \"1/4/22\", \"Type\": \"Chocolate\", \"Quantity\": \"50\", \"Price\": \"20\"}, \"3118\": {\"Name\": \"Munch\", \"Exp. Date\": \"1/4/22\", \"Type\": \"Chocolate\", \"Quantity\": \"50\", \"Price\": \"20\"}, \"3119\": {\"Name\": \"Bar One\", \"Exp. Date\": \"1/4/22\", \"Type\": \"Chocolate\", \"Quantity\": \"50\", \"Price\": \"20\"}, \"3120\": {\"Name\": \"Chuckles\", \"Exp. Date\": \"1/4/22\", \"Type\": \"Chocolate\", \"Quantity\": \"50\", \"Price\": \"20\"}, \"3121\": {\"Name\": \"Snickers\", \"Exp. Date\": \"1/4/22\", \"Type\": \"Chocolate\", \"Quantity\": \"50\", \"Price\": \"20\"}, \"3122\": {\"Name\": \"Kinder Joy\", \"Exp. Date\": \"1/4/22\", \"Type\": \"Chocolate\", \"Quantity\": \"50\", \"Price\": \"20\"}, \"3123\": {\"Name\": \"Choco Pie\", \"Exp. Date\": \"1/4/22\", \"Type\": \"Chocolate\", \"Quantity\": \"50\", \"Price\": \"20\"}}'"
      ]
     },
     "execution_count": 5,
     "metadata": {},
     "output_type": "execute_result"
    }
   ],
   "source": [
    "import json\n",
    "js = json.dumps(inventory)\n",
    "js"
   ]
  },
  {
   "cell_type": "code",
   "execution_count": 6,
   "id": "afacbbab",
   "metadata": {},
   "outputs": [],
   "source": [
    "fd = open(\"inventory.json\",'w')\n",
    "fd.write(js)\n",
    "fd.close()"
   ]
  },
  {
   "cell_type": "code",
   "execution_count": 7,
   "id": "a27c972a",
   "metadata": {},
   "outputs": [],
   "source": [
    "fd = open(\"inventory.json\",'r')\n",
    "txt = fd.read()\n",
    "fd.close()"
   ]
  },
  {
   "cell_type": "code",
   "execution_count": 8,
   "id": "d087a5b2",
   "metadata": {},
   "outputs": [],
   "source": [
    "inventory = json.loads(txt)"
   ]
  },
  {
   "cell_type": "code",
   "execution_count": 9,
   "id": "900a7a96",
   "metadata": {},
   "outputs": [
    {
     "name": "stdout",
     "output_type": "stream",
     "text": [
      "Product ID               Item                     Price\n",
      "-------------------------------------------------------\n",
      "1111                     Coke                        30\n",
      "1112                    Sprite                       30\n",
      "1113                     Fanta                       30\n",
      "1114                   Thumps Up                     30\n",
      "1115                     Limca                       30\n",
      "1116                     Pepsi                       30\n",
      "1117                    Mirinda                      30\n",
      "1118                     7 Up                        30\n",
      "1119                 Mountain Dew                    30\n",
      "1120                     Maaza                       30\n",
      "1121                    Frooti                       30\n",
      "1122                     Slice                       30\n",
      "2111                     Lays                        10\n",
      "2112                     Bingo                       10\n",
      "2113                    Kurkure                      10\n",
      "2114                     Chips                       10\n",
      "2115                    Cheetos                      10\n",
      "3111                  Dairy Milk                     20\n",
      "3112                     Perk                        20\n",
      "3113                     Fuse                        20\n",
      "3114                    5 Star                       20\n",
      "3115                  Bournville                     20\n",
      "3116                   MilkyBar                      20\n",
      "3117                    KitKat                       20\n",
      "3118                     Munch                       20\n",
      "3119                    Bar One                      20\n",
      "3120                   Chuckles                      20\n",
      "3121                   Snickers                      20\n",
      "3122                  Kinder Joy                     20\n",
      "3123                   Choco Pie                     20\n"
     ]
    }
   ],
   "source": [
    "left_alignment=\"Product ID\"\n",
    "center_alignment=\"Item\"\n",
    "right_alignment=\"Price\"\n",
    "print(f\"{left_alignment : <20}{center_alignment : ^15}{right_alignment : >20}\")\n",
    "print(\"-------------------------------------------------------\")\n",
    "for i in inventory:\n",
    "    left_alignment=i\n",
    "    center_alignment=inventory[i][\"Name\"]\n",
    "    right_alignment=inventory[i][\"Price\"]\n",
    "    print(f\"{left_alignment : <20}{center_alignment : ^15}{right_alignment : >20}\")"
   ]
  },
  {
   "cell_type": "code",
   "execution_count": 10,
   "id": "371e7b8a",
   "metadata": {},
   "outputs": [
    {
     "name": "stdout",
     "output_type": "stream",
     "text": [
      "Enter Product ID:  1111\n",
      "Product Available\n",
      "Enter Product Quantity:  20\n",
      "Stock Available\n",
      "Item added to cart\n",
      "Do you want to continue shopping?   Y or N   Y\n",
      "Enter Product ID:  3113\n",
      "Product Available\n",
      "Enter Product Quantity:  10\n",
      "Stock Available\n",
      "Item added to cart\n",
      "Do you want to continue shopping?   Y or N   N\n"
     ]
    }
   ],
   "source": [
    "import random\n",
    "cart={}\n",
    "shop=\"Y\"\n",
    "while(shop==\"Y\"):\n",
    "    product=input(\"Enter Product ID:  \")\n",
    "    if product in inventory:\n",
    "        print(\"Product Available\")\n",
    "        quantity=input(\"Enter Product Quantity:  \")\n",
    "        if (int(quantity)<=int(inventory[i][\"Quantity\"])):\n",
    "            print(\"Stock Available\")\n",
    "            print(\"Item added to cart\")\n",
    "            new_quantity=int(inventory[i][\"Quantity\"])-int(quantity)\n",
    "            inventory[i][\"Quantity\"]=str(new_quantity)\n",
    "            total_price=int(inventory[i][\"Price\"])*int(quantity)\n",
    "            val=str(random.randint(1000,9999))\n",
    "            cart[val]={}\n",
    "            cart[val][\"Product ID\"]=product\n",
    "            cart[val][\"Item\"]=inventory[product][\"Name\"]\n",
    "            cart[val][\"Price\"]=inventory[product][\"Price\"]\n",
    "            cart[val][\"Quantity\"]=quantity\n",
    "            cart[val][\"Total Price\"]=str(total_price)\n",
    "        else:\n",
    "            print(\"Sorry only \"+inventory[i][\"Quantity\"]+\" stocks left\")         \n",
    "    else:\n",
    "        print(\"Product Not Available\")\n",
    "    shop=input(\"Do you want to continue shopping?   Y or N   \")"
   ]
  },
  {
   "cell_type": "code",
   "execution_count": 11,
   "id": "497b6d7a",
   "metadata": {},
   "outputs": [
    {
     "data": {
      "text/plain": [
       "{'6180': {'Product ID': '1111',\n",
       "  'Item': 'Coke',\n",
       "  'Price': '30',\n",
       "  'Quantity': '20',\n",
       "  'Total Price': '400'},\n",
       " '7353': {'Product ID': '3113',\n",
       "  'Item': 'Fuse',\n",
       "  'Price': '20',\n",
       "  'Quantity': '10',\n",
       "  'Total Price': '200'}}"
      ]
     },
     "execution_count": 11,
     "metadata": {},
     "output_type": "execute_result"
    }
   ],
   "source": [
    "cart"
   ]
  },
  {
   "cell_type": "code",
   "execution_count": 12,
   "id": "96802007",
   "metadata": {},
   "outputs": [
    {
     "name": "stdout",
     "output_type": "stream",
     "text": [
      "Enter Your Name:  Amaan\n",
      "Please Wait Creating Bill\n",
      "Name of Customer: Amaan\n",
      "Time of Purchase: Tue Aug 31 23:34:42 2021\n",
      "Total Billing Amount: 600\n"
     ]
    }
   ],
   "source": [
    "total_price=0\n",
    "for i in cart:\n",
    "    total_price=total_price+int(cart[i][\"Total Price\"])\n",
    "import time\n",
    "name=input(\"Enter Your Name:  \")\n",
    "time=time.ctime()\n",
    "print(\"Please Wait Creating Bill\")\n",
    "bill={}\n",
    "bill[\"Name\"]=name\n",
    "bill[\"Time\"]=time\n",
    "bill[\"Total Amount\"]=str(total_price)\n",
    "print(\"Name of Customer: \" +bill[\"Name\"])\n",
    "print(\"Time of Purchase: \" +bill[\"Time\"])\n",
    "print(\"Total Billing Amount: \"+bill[\"Total Amount\"])"
   ]
  },
  {
   "cell_type": "code",
   "execution_count": 13,
   "id": "3dc6d52c",
   "metadata": {},
   "outputs": [],
   "source": [
    "sales={}\n",
    "sales.update(bill)"
   ]
  },
  {
   "cell_type": "code",
   "execution_count": 14,
   "id": "2de6c637",
   "metadata": {},
   "outputs": [
    {
     "data": {
      "text/plain": [
       "{'Name': 'Amaan', 'Time': 'Tue Aug 31 23:34:42 2021', 'Total Amount': '600'}"
      ]
     },
     "execution_count": 14,
     "metadata": {},
     "output_type": "execute_result"
    }
   ],
   "source": [
    "sales"
   ]
  },
  {
   "cell_type": "code",
   "execution_count": 15,
   "id": "5adc136e",
   "metadata": {},
   "outputs": [
    {
     "data": {
      "text/plain": [
       "'{\"Name\": \"Amaan\", \"Time\": \"Tue Aug 31 23:34:42 2021\", \"Total Amount\": \"600\"}'"
      ]
     },
     "execution_count": 15,
     "metadata": {},
     "output_type": "execute_result"
    }
   ],
   "source": [
    "js2 = json.dumps(sales)\n",
    "js2"
   ]
  },
  {
   "cell_type": "code",
   "execution_count": 16,
   "id": "e1796c96",
   "metadata": {},
   "outputs": [],
   "source": [
    "fd2 = open(\"sales.json\",'w')\n",
    "fd2.write(js2)\n",
    "fd2.close()"
   ]
  },
  {
   "cell_type": "code",
   "execution_count": 17,
   "id": "6486e0d5",
   "metadata": {},
   "outputs": [],
   "source": [
    "fd2 = open(\"sales.json\",'r')\n",
    "txt2 = fd2.read()\n",
    "fd2.close()"
   ]
  },
  {
   "cell_type": "code",
   "execution_count": 18,
   "id": "0cbba463",
   "metadata": {},
   "outputs": [],
   "source": [
    "sales = json.loads(txt2)"
   ]
  },
  {
   "cell_type": "code",
   "execution_count": 19,
   "id": "5dc6fa58",
   "metadata": {},
   "outputs": [
    {
     "data": {
      "text/plain": [
       "{'Name': 'Amaan', 'Time': 'Tue Aug 31 23:34:42 2021', 'Total Amount': '600'}"
      ]
     },
     "execution_count": 19,
     "metadata": {},
     "output_type": "execute_result"
    }
   ],
   "source": [
    "sales"
   ]
  },
  {
   "cell_type": "code",
   "execution_count": null,
   "id": "54976887",
   "metadata": {},
   "outputs": [],
   "source": []
  }
 ],
 "metadata": {
  "kernelspec": {
   "display_name": "Python 3",
   "language": "python",
   "name": "python3"
  },
  "language_info": {
   "codemirror_mode": {
    "name": "ipython",
    "version": 3
   },
   "file_extension": ".py",
   "mimetype": "text/x-python",
   "name": "python",
   "nbconvert_exporter": "python",
   "pygments_lexer": "ipython3",
   "version": "3.8.8"
  }
 },
 "nbformat": 4,
 "nbformat_minor": 5
}
